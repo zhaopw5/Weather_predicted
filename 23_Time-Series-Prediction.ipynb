{
 "cells": [
  {
   "cell_type": "markdown",
   "metadata": {},
   "source": [
    "# TensorFlow Tutorial #23\n",
    "# Time-Series Prediction\n",
    "\n",
    "by [Magnus Erik Hvass Pedersen](http://www.hvass-labs.org/)\n",
    "/ [GitHub](https://github.com/Hvass-Labs/TensorFlow-Tutorials) / [Videos on YouTube](https://www.youtube.com/playlist?list=PL9Hr9sNUjfsmEu1ZniY0XpHSzl5uihcXZ)"
   ]
  },
  {
   "cell_type": "markdown",
   "metadata": {},
   "source": [
    "## Introduction\n",
    "\n",
    "This tutorial tries to predict the future weather of a city using weather-data from several other cities.\n",
    "\n",
    "Because we will be working with sequences of arbitrary length, we will use a Recurrent Neural Network (RNN).\n",
    "\n",
    "You should be familiar with TensorFlow and Keras in general, see Tutorials #01 and #03-C, and the basics of Recurrent Neural Networks as explained in Tutorial #20."
   ]
  },
  {
   "cell_type": "markdown",
   "metadata": {},
   "source": [
    "## Location\n",
    "\n",
    "We will use weather-data from the period 1980-2018 for five cities in [Denmark](https://en.wikipedia.org/wiki/Denmark):\n",
    "\n",
    "* **[Aalborg](https://en.wikipedia.org/wiki/Aalborg)** The weather-data is actually from an airforce base which is also home to [The Hunter Corps (Jægerkorps)](https://en.wikipedia.org/wiki/Jaeger_Corps_(Denmark)).\n",
    "* **[Aarhus](https://en.wikipedia.org/wiki/Aarhus)** is the city where [the inventor of C++](https://en.wikipedia.org/wiki/Bjarne_Stroustrup) studied and the [Google V8 JavaScript Engine](https://en.wikipedia.org/wiki/Chrome_V8) was developed.\n",
    "* **[Esbjerg](https://en.wikipedia.org/wiki/Esbjerg)** has a large fishing-port.\n",
    "* **[Odense](https://en.wikipedia.org/wiki/Odense)** is the birth-city of the fairytale author [H. C. Andersen](https://en.wikipedia.org/wiki/Hans_Christian_Andersen).\n",
    "* **[Roskilde](https://en.wikipedia.org/wiki/Roskilde)** has an old cathedral housing the tombs of the Danish royal family."
   ]
  },
  {
   "cell_type": "markdown",
   "metadata": {},
   "source": [
    "The following map shows the location of the cities in Denmark:\n",
    "\n",
    "![Map of Denmark](images/Denmark.jpg)"
   ]
  },
  {
   "cell_type": "markdown",
   "metadata": {},
   "source": [
    "The following map shows the location of Denmark within Europe:\n",
    "\n",
    "![Map of Europe](images/Europe.jpg)"
   ]
  },
  {
   "cell_type": "markdown",
   "metadata": {},
   "source": [
    "## Flowchart\n",
    "\n",
    "In this tutorial, we are trying to predict the weather for the Danish city \"Odense\" 24 hours into the future, given the current and past weather-data from 5 cities (although the flowchart below only shows 2 cities).\n",
    "\n",
    "We use a Recurrent Neural Network (RNN) because it can work on sequences of arbitrary length. During training we will use sub-sequences of 1344 data-points (8 weeks) from the training-set, with each data-point or observation having 20 input-signals for the temperature, pressure, etc. for each of the 5 cities. We then want to train the neural network so it outputs the 3 signals for tomorrow's temperature, pressure and wind-speed."
   ]
  },
  {
   "cell_type": "markdown",
   "metadata": {},
   "source": [
    "![Flowchart](images/23_time_series_flowchart.png)"
   ]
  },
  {
   "cell_type": "markdown",
   "metadata": {},
   "source": [
    "## Imports"
   ]
  },
  {
   "cell_type": "code",
   "execution_count": 1,
   "metadata": {},
   "outputs": [
    {
     "name": "stderr",
     "output_type": "stream",
     "text": [
      "2022-09-10 15:52:56.279201: I tensorflow/core/platform/cpu_feature_guard.cc:193] This TensorFlow binary is optimized with oneAPI Deep Neural Network Library (oneDNN) to use the following CPU instructions in performance-critical operations:  AVX2 FMA\n",
      "To enable them in other operations, rebuild TensorFlow with the appropriate compiler flags.\n",
      "2022-09-10 15:52:56.417705: W tensorflow/stream_executor/platform/default/dso_loader.cc:64] Could not load dynamic library 'libcudart.so.11.0'; dlerror: libcudart.so.11.0: cannot open shared object file: No such file or directory\n",
      "2022-09-10 15:52:56.417731: I tensorflow/stream_executor/cuda/cudart_stub.cc:29] Ignore above cudart dlerror if you do not have a GPU set up on your machine.\n",
      "2022-09-10 15:52:56.447401: E tensorflow/stream_executor/cuda/cuda_blas.cc:2981] Unable to register cuBLAS factory: Attempting to register factory for plugin cuBLAS when one has already been registered\n",
      "2022-09-10 15:52:57.049841: W tensorflow/stream_executor/platform/default/dso_loader.cc:64] Could not load dynamic library 'libnvinfer.so.7'; dlerror: libnvinfer.so.7: cannot open shared object file: No such file or directory\n",
      "2022-09-10 15:52:57.049917: W tensorflow/stream_executor/platform/default/dso_loader.cc:64] Could not load dynamic library 'libnvinfer_plugin.so.7'; dlerror: libnvinfer_plugin.so.7: cannot open shared object file: No such file or directory\n",
      "2022-09-10 15:52:57.049926: W tensorflow/compiler/tf2tensorrt/utils/py_utils.cc:38] TF-TRT Warning: Cannot dlopen some TensorRT libraries. If you would like to use Nvidia GPU with TensorRT, please make sure the missing libraries mentioned above are installed properly.\n"
     ]
    }
   ],
   "source": [
    "import matplotlib.pyplot as plt\n",
    "import tensorflow as tf\n",
    "import numpy as np\n",
    "import pandas as pd\n",
    "import os\n",
    "from sklearn.preprocessing import MinMaxScaler"
   ]
  },
  {
   "cell_type": "markdown",
   "metadata": {},
   "source": [
    "We need to import several things from Keras."
   ]
  },
  {
   "cell_type": "code",
   "execution_count": 2,
   "metadata": {},
   "outputs": [],
   "source": [
    "from tensorflow.keras.models import Sequential\n",
    "from tensorflow.keras.layers import Input, Dense, GRU, Embedding\n",
    "from tensorflow.keras.optimizers import RMSprop\n",
    "from tensorflow.keras.callbacks import EarlyStopping, ModelCheckpoint, TensorBoard, ReduceLROnPlateau\n",
    "from tensorflow.keras.backend import square, mean"
   ]
  },
  {
   "cell_type": "markdown",
   "metadata": {},
   "source": [
    "This was developed using Python 3.6 (Anaconda) and package versions:"
   ]
  },
  {
   "cell_type": "markdown",
   "metadata": {},
   "source": [
    "## Load Data\n",
    "\n",
    "Weather-data for 5 cities in Denmark will be downloaded automatically below.\n",
    "\n",
    "The raw weather-data was originally obtained from the [National Climatic Data Center (NCDC), USA](https://www7.ncdc.noaa.gov/CDO/cdoselect.cmd). Their web-site and database-access is very confusing and may change soon. Furthermore, the raw data-file had to be manually edited before it could be read. So you should expect some challenges if you want to download weather-data for another region. The following Python-module provides some functionality that may be helpful if you want to use new weather-data, but you will have to modify the source-code to fit your data-format."
   ]
  },
  {
   "cell_type": "code",
   "execution_count": 3,
   "metadata": {},
   "outputs": [],
   "source": [
    "import weather"
   ]
  },
  {
   "cell_type": "markdown",
   "metadata": {},
   "source": [
    "Download the data-set if you don't have it already. It is about 35 MB."
   ]
  },
  {
   "cell_type": "code",
   "execution_count": 4,
   "metadata": {},
   "outputs": [
    {
     "name": "stdout",
     "output_type": "stream",
     "text": [
      "Data has apparently already been downloaded and unpacked.\n"
     ]
    }
   ],
   "source": [
    "weather.maybe_download_and_extract()"
   ]
  },
  {
   "cell_type": "markdown",
   "metadata": {},
   "source": [
    "List of the cities used in the data-set."
   ]
  },
  {
   "cell_type": "code",
   "execution_count": 5,
   "metadata": {},
   "outputs": [
    {
     "data": {
      "text/plain": [
       "['Aalborg', 'Aarhus', 'Esbjerg', 'Odense', 'Roskilde']"
      ]
     },
     "execution_count": 5,
     "metadata": {},
     "output_type": "execute_result"
    }
   ],
   "source": [
    "cities = weather.cities\n",
    "cities"
   ]
  },
  {
   "cell_type": "markdown",
   "metadata": {},
   "source": [
    "Load and resample the data so it has observations at regular time-intervals for every 60 minutes. Missing data-points are linearly interpolated. This takes about 30 seconds to run the first time but uses a cache-file so it loads very quickly the next time."
   ]
  },
  {
   "cell_type": "code",
   "execution_count": 6,
   "metadata": {},
   "outputs": [
    {
     "name": "stdout",
     "output_type": "stream",
     "text": [
      "CPU times: user 46.7 s, sys: 13.3 s, total: 1min\n",
      "Wall time: 1min\n"
     ]
    }
   ],
   "source": [
    "%%time\n",
    "df = weather.load_resampled_data()"
   ]
  },
  {
   "cell_type": "markdown",
   "metadata": {},
   "source": [
    "These are the top rows of the data-set."
   ]
  },
  {
   "cell_type": "code",
   "execution_count": 7,
   "metadata": {},
   "outputs": [
    {
     "data": {
      "text/html": [
       "<div>\n",
       "<style scoped>\n",
       "    .dataframe tbody tr th:only-of-type {\n",
       "        vertical-align: middle;\n",
       "    }\n",
       "\n",
       "    .dataframe tbody tr th {\n",
       "        vertical-align: top;\n",
       "    }\n",
       "\n",
       "    .dataframe thead tr th {\n",
       "        text-align: left;\n",
       "    }\n",
       "\n",
       "    .dataframe thead tr:last-of-type th {\n",
       "        text-align: right;\n",
       "    }\n",
       "</style>\n",
       "<table border=\"1\" class=\"dataframe\">\n",
       "  <thead>\n",
       "    <tr>\n",
       "      <th></th>\n",
       "      <th colspan=\"4\" halign=\"left\">Aalborg</th>\n",
       "      <th colspan=\"4\" halign=\"left\">Aarhus</th>\n",
       "      <th colspan=\"4\" halign=\"left\">Esbjerg</th>\n",
       "      <th colspan=\"4\" halign=\"left\">Odense</th>\n",
       "      <th colspan=\"4\" halign=\"left\">Roskilde</th>\n",
       "    </tr>\n",
       "    <tr>\n",
       "      <th></th>\n",
       "      <th>Temp</th>\n",
       "      <th>Pressure</th>\n",
       "      <th>WindSpeed</th>\n",
       "      <th>WindDir</th>\n",
       "      <th>Temp</th>\n",
       "      <th>Pressure</th>\n",
       "      <th>WindSpeed</th>\n",
       "      <th>WindDir</th>\n",
       "      <th>Temp</th>\n",
       "      <th>Pressure</th>\n",
       "      <th>WindSpeed</th>\n",
       "      <th>WindDir</th>\n",
       "      <th>Temp</th>\n",
       "      <th>Pressure</th>\n",
       "      <th>WindSpeed</th>\n",
       "      <th>WindDir</th>\n",
       "      <th>Temp</th>\n",
       "      <th>Pressure</th>\n",
       "      <th>WindSpeed</th>\n",
       "      <th>WindDir</th>\n",
       "    </tr>\n",
       "    <tr>\n",
       "      <th>DateTime</th>\n",
       "      <th></th>\n",
       "      <th></th>\n",
       "      <th></th>\n",
       "      <th></th>\n",
       "      <th></th>\n",
       "      <th></th>\n",
       "      <th></th>\n",
       "      <th></th>\n",
       "      <th></th>\n",
       "      <th></th>\n",
       "      <th></th>\n",
       "      <th></th>\n",
       "      <th></th>\n",
       "      <th></th>\n",
       "      <th></th>\n",
       "      <th></th>\n",
       "      <th></th>\n",
       "      <th></th>\n",
       "      <th></th>\n",
       "      <th></th>\n",
       "    </tr>\n",
       "  </thead>\n",
       "  <tbody>\n",
       "    <tr>\n",
       "      <th>1980-03-01 11:00:00</th>\n",
       "      <td>5.000000</td>\n",
       "      <td>1007.766667</td>\n",
       "      <td>10.2</td>\n",
       "      <td>280.000000</td>\n",
       "      <td>5.0</td>\n",
       "      <td>1008.300000</td>\n",
       "      <td>15.4</td>\n",
       "      <td>290.0</td>\n",
       "      <td>6.083333</td>\n",
       "      <td>NaN</td>\n",
       "      <td>12.383333</td>\n",
       "      <td>310.000000</td>\n",
       "      <td>6.142857</td>\n",
       "      <td>1011.066667</td>\n",
       "      <td>12.585714</td>\n",
       "      <td>290.0</td>\n",
       "      <td>5.000000</td>\n",
       "      <td>NaN</td>\n",
       "      <td>11.466667</td>\n",
       "      <td>280.000000</td>\n",
       "    </tr>\n",
       "    <tr>\n",
       "      <th>1980-03-01 12:00:00</th>\n",
       "      <td>5.000000</td>\n",
       "      <td>1008.000000</td>\n",
       "      <td>10.3</td>\n",
       "      <td>290.000000</td>\n",
       "      <td>5.0</td>\n",
       "      <td>1008.600000</td>\n",
       "      <td>13.4</td>\n",
       "      <td>280.0</td>\n",
       "      <td>6.583333</td>\n",
       "      <td>NaN</td>\n",
       "      <td>12.883333</td>\n",
       "      <td>310.000000</td>\n",
       "      <td>7.000000</td>\n",
       "      <td>1011.200000</td>\n",
       "      <td>11.300000</td>\n",
       "      <td>290.0</td>\n",
       "      <td>5.000000</td>\n",
       "      <td>NaN</td>\n",
       "      <td>12.466667</td>\n",
       "      <td>280.000000</td>\n",
       "    </tr>\n",
       "    <tr>\n",
       "      <th>1980-03-01 13:00:00</th>\n",
       "      <td>5.000000</td>\n",
       "      <td>1008.066667</td>\n",
       "      <td>9.7</td>\n",
       "      <td>290.000000</td>\n",
       "      <td>5.0</td>\n",
       "      <td>1008.433333</td>\n",
       "      <td>15.4</td>\n",
       "      <td>280.0</td>\n",
       "      <td>6.888889</td>\n",
       "      <td>NaN</td>\n",
       "      <td>13.244444</td>\n",
       "      <td>309.444444</td>\n",
       "      <td>7.000000</td>\n",
       "      <td>1011.300000</td>\n",
       "      <td>12.118182</td>\n",
       "      <td>290.0</td>\n",
       "      <td>5.166667</td>\n",
       "      <td>NaN</td>\n",
       "      <td>13.133333</td>\n",
       "      <td>278.333333</td>\n",
       "    </tr>\n",
       "    <tr>\n",
       "      <th>1980-03-01 14:00:00</th>\n",
       "      <td>4.333333</td>\n",
       "      <td>1008.133333</td>\n",
       "      <td>11.1</td>\n",
       "      <td>283.333333</td>\n",
       "      <td>5.0</td>\n",
       "      <td>1008.266667</td>\n",
       "      <td>14.9</td>\n",
       "      <td>300.0</td>\n",
       "      <td>6.222222</td>\n",
       "      <td>NaN</td>\n",
       "      <td>12.911111</td>\n",
       "      <td>306.111111</td>\n",
       "      <td>6.857143</td>\n",
       "      <td>1011.400000</td>\n",
       "      <td>12.742857</td>\n",
       "      <td>290.0</td>\n",
       "      <td>5.833333</td>\n",
       "      <td>NaN</td>\n",
       "      <td>12.300000</td>\n",
       "      <td>270.000000</td>\n",
       "    </tr>\n",
       "    <tr>\n",
       "      <th>1980-03-01 15:00:00</th>\n",
       "      <td>4.000000</td>\n",
       "      <td>1008.200000</td>\n",
       "      <td>11.3</td>\n",
       "      <td>280.000000</td>\n",
       "      <td>5.0</td>\n",
       "      <td>1008.100000</td>\n",
       "      <td>17.0</td>\n",
       "      <td>290.0</td>\n",
       "      <td>5.555556</td>\n",
       "      <td>NaN</td>\n",
       "      <td>12.577778</td>\n",
       "      <td>302.777778</td>\n",
       "      <td>6.000000</td>\n",
       "      <td>1011.500000</td>\n",
       "      <td>12.400000</td>\n",
       "      <td>290.0</td>\n",
       "      <td>4.833333</td>\n",
       "      <td>NaN</td>\n",
       "      <td>12.300000</td>\n",
       "      <td>270.000000</td>\n",
       "    </tr>\n",
       "  </tbody>\n",
       "</table>\n",
       "</div>"
      ],
      "text/plain": [
       "                      Aalborg                                    Aarhus  \\\n",
       "                         Temp     Pressure WindSpeed     WindDir   Temp   \n",
       "DateTime                                                                  \n",
       "1980-03-01 11:00:00  5.000000  1007.766667      10.2  280.000000    5.0   \n",
       "1980-03-01 12:00:00  5.000000  1008.000000      10.3  290.000000    5.0   \n",
       "1980-03-01 13:00:00  5.000000  1008.066667       9.7  290.000000    5.0   \n",
       "1980-03-01 14:00:00  4.333333  1008.133333      11.1  283.333333    5.0   \n",
       "1980-03-01 15:00:00  4.000000  1008.200000      11.3  280.000000    5.0   \n",
       "\n",
       "                                                     Esbjerg           \\\n",
       "                        Pressure WindSpeed WindDir      Temp Pressure   \n",
       "DateTime                                                                \n",
       "1980-03-01 11:00:00  1008.300000      15.4   290.0  6.083333      NaN   \n",
       "1980-03-01 12:00:00  1008.600000      13.4   280.0  6.583333      NaN   \n",
       "1980-03-01 13:00:00  1008.433333      15.4   280.0  6.888889      NaN   \n",
       "1980-03-01 14:00:00  1008.266667      14.9   300.0  6.222222      NaN   \n",
       "1980-03-01 15:00:00  1008.100000      17.0   290.0  5.555556      NaN   \n",
       "\n",
       "                                              Odense                          \\\n",
       "                     WindSpeed     WindDir      Temp     Pressure  WindSpeed   \n",
       "DateTime                                                                       \n",
       "1980-03-01 11:00:00  12.383333  310.000000  6.142857  1011.066667  12.585714   \n",
       "1980-03-01 12:00:00  12.883333  310.000000  7.000000  1011.200000  11.300000   \n",
       "1980-03-01 13:00:00  13.244444  309.444444  7.000000  1011.300000  12.118182   \n",
       "1980-03-01 14:00:00  12.911111  306.111111  6.857143  1011.400000  12.742857   \n",
       "1980-03-01 15:00:00  12.577778  302.777778  6.000000  1011.500000  12.400000   \n",
       "\n",
       "                             Roskilde                                  \n",
       "                    WindDir      Temp Pressure  WindSpeed     WindDir  \n",
       "DateTime                                                               \n",
       "1980-03-01 11:00:00   290.0  5.000000      NaN  11.466667  280.000000  \n",
       "1980-03-01 12:00:00   290.0  5.000000      NaN  12.466667  280.000000  \n",
       "1980-03-01 13:00:00   290.0  5.166667      NaN  13.133333  278.333333  \n",
       "1980-03-01 14:00:00   290.0  5.833333      NaN  12.300000  270.000000  \n",
       "1980-03-01 15:00:00   290.0  4.833333      NaN  12.300000  270.000000  "
      ]
     },
     "execution_count": 7,
     "metadata": {},
     "output_type": "execute_result"
    }
   ],
   "source": [
    "df.head()"
   ]
  },
  {
   "cell_type": "markdown",
   "metadata": {},
   "source": [
    "### Missing Data\n",
    "\n",
    "The two cities Esbjerg and Roskilde have missing data for the atmospheric pressure, as can be seen in the following two plots. \n",
    "\n",
    "Because we are using resampled data, we have filled in the missing values with new values that are linearly interpolated from the neighbouring values, which appears as long straight lines in these plots.\n",
    "\n",
    "This may confuse the neural network. For simplicity, we will simply remove these two signals from the data.\n",
    "\n",
    "But it is only short periods of data that are missing, so you could actually generate this data by creating a predictive model that generates the missing data from all the other input signals. Then you could add these generated values back into the data-set to fill the gaps."
   ]
  },
  {
   "cell_type": "code",
   "execution_count": 8,
   "metadata": {},
   "outputs": [
    {
     "data": {
      "image/png": "[encoded data removed]",
      "text/plain": [
       "<Figure size 640x480 with 1 Axes>"
      ]
     },
     "metadata": {},
     "output_type": "display_data"
    }
   ],
   "source": [
    "df['Esbjerg']['Pressure'].plot();"
   ]
  },
  {
   "cell_type": "code",
   "execution_count": 9,
   "metadata": {
    "scrolled": true
   },
   "outputs": [
    {
     "data": {
      "image/png": "[encoded data removed]",
      "text/plain": [
       "<Figure size 640x480 with 1 Axes>"
      ]
     },
     "metadata": {},
     "output_type": "display_data"
    }
   ],
   "source": [
    "df['Roskilde']['Pressure'].plot();"
   ]
  },
  {
   "cell_type": "markdown",
   "metadata": {},
   "source": [
    "Before removing these two signals, there are 20 input-signals in the data-set."
   ]
  },
  {
   "cell_type": "code",
   "execution_count": 10,
   "metadata": {},
   "outputs": [
    {
     "data": {
      "text/plain": [
       "(333109, 20)"
      ]
     },
     "execution_count": 10,
     "metadata": {},
     "output_type": "execute_result"
    }
   ],
   "source": [
    "df.values.shape"
   ]
  },
  {
   "cell_type": "markdown",
   "metadata": {},
   "source": [
    "Then we remove the two signals that have missing data."
   ]
  },
  {
   "cell_type": "code",
   "execution_count": 11,
   "metadata": {},
   "outputs": [],
   "source": [
    "df.drop(('Esbjerg', 'Pressure'), axis=1, inplace=True)\n",
    "df.drop(('Roskilde', 'Pressure'), axis=1, inplace=True)"
   ]
  },
  {
   "cell_type": "markdown",
   "metadata": {},
   "source": [
    "Now there are only 18 input-signals in the data."
   ]
  },
  {
   "cell_type": "code",
   "execution_count": 12,
   "metadata": {},
   "outputs": [
    {
     "data": {
      "text/plain": [
       "(333109, 18)"
      ]
     },
     "execution_count": 12,
     "metadata": {},
     "output_type": "execute_result"
    }
   ],
   "source": [
    "df.values.shape"
   ]
  },
  {
   "cell_type": "markdown",
   "metadata": {},
   "source": [
    "We can verify that these two data-columns have indeed been removed."
   ]
  },
  {
   "cell_type": "code",
   "execution_count": 13,
   "metadata": {},
   "outputs": [
    {
     "data": {
      "text/html": [
       "<div>\n",
       "<style scoped>\n",
       "    .dataframe tbody tr th:only-of-type {\n",
       "        vertical-align: middle;\n",
       "    }\n",
       "\n",
       "    .dataframe tbody tr th {\n",
       "        vertical-align: top;\n",
       "    }\n",
       "\n",
       "    .dataframe thead tr th {\n",
       "        text-align: left;\n",
       "    }\n",
       "\n",
       "    .dataframe thead tr:last-of-type th {\n",
       "        text-align: right;\n",
       "    }\n",
       "</style>\n",
       "<table border=\"1\" class=\"dataframe\">\n",
       "  <thead>\n",
       "    <tr>\n",
       "      <th></th>\n",
       "      <th colspan=\"4\" halign=\"left\">Aalborg</th>\n",
       "      <th colspan=\"4\" halign=\"left\">Aarhus</th>\n",
       "      <th colspan=\"3\" halign=\"left\">Esbjerg</th>\n",
       "      <th colspan=\"4\" halign=\"left\">Odense</th>\n",
       "      <th colspan=\"3\" halign=\"left\">Roskilde</th>\n",
       "    </tr>\n",
       "    <tr>\n",
       "      <th></th>\n",
       "      <th>Temp</th>\n",
       "      <th>Pressure</th>\n",
       "      <th>WindSpeed</th>\n",
       "      <th>WindDir</th>\n",
       "      <th>Temp</th>\n",
       "      <th>Pressure</th>\n",
       "      <th>WindSpeed</th>\n",
       "      <th>WindDir</th>\n",
       "      <th>Temp</th>\n",
       "      <th>WindSpeed</th>\n",
       "      <th>WindDir</th>\n",
       "      <th>Temp</th>\n",
       "      <th>Pressure</th>\n",
       "      <th>WindSpeed</th>\n",
       "      <th>WindDir</th>\n",
       "      <th>Temp</th>\n",
       "      <th>WindSpeed</th>\n",
       "      <th>WindDir</th>\n",
       "    </tr>\n",
       "    <tr>\n",
       "      <th>DateTime</th>\n",
       "      <th></th>\n",
       "      <th></th>\n",
       "      <th></th>\n",
       "      <th></th>\n",
       "      <th></th>\n",
       "      <th></th>\n",
       "      <th></th>\n",
       "      <th></th>\n",
       "      <th></th>\n",
       "      <th></th>\n",
       "      <th></th>\n",
       "      <th></th>\n",
       "      <th></th>\n",
       "      <th></th>\n",
       "      <th></th>\n",
       "      <th></th>\n",
       "      <th></th>\n",
       "      <th></th>\n",
       "    </tr>\n",
       "  </thead>\n",
       "  <tbody>\n",
       "    <tr>\n",
       "      <th>1980-03-01 11:00:00</th>\n",
       "      <td>5.0</td>\n",
       "      <td>1007.766667</td>\n",
       "      <td>10.2</td>\n",
       "      <td>280.0</td>\n",
       "      <td>5.0</td>\n",
       "      <td>1008.3</td>\n",
       "      <td>15.4</td>\n",
       "      <td>290.0</td>\n",
       "      <td>6.083333</td>\n",
       "      <td>12.383333</td>\n",
       "      <td>310.0</td>\n",
       "      <td>6.142857</td>\n",
       "      <td>1011.066667</td>\n",
       "      <td>12.585714</td>\n",
       "      <td>290.0</td>\n",
       "      <td>5.0</td>\n",
       "      <td>11.466667</td>\n",
       "      <td>280.0</td>\n",
       "    </tr>\n",
       "  </tbody>\n",
       "</table>\n",
       "</div>"
      ],
      "text/plain": [
       "                    Aalborg                                Aarhus           \\\n",
       "                       Temp     Pressure WindSpeed WindDir   Temp Pressure   \n",
       "DateTime                                                                     \n",
       "1980-03-01 11:00:00     5.0  1007.766667      10.2   280.0    5.0   1008.3   \n",
       "\n",
       "                                        Esbjerg                       Odense  \\\n",
       "                    WindSpeed WindDir      Temp  WindSpeed WindDir      Temp   \n",
       "DateTime                                                                       \n",
       "1980-03-01 11:00:00      15.4   290.0  6.083333  12.383333   310.0  6.142857   \n",
       "\n",
       "                                                    Roskilde             \\\n",
       "                        Pressure  WindSpeed WindDir     Temp  WindSpeed   \n",
       "DateTime                                                                  \n",
       "1980-03-01 11:00:00  1011.066667  12.585714   290.0      5.0  11.466667   \n",
       "\n",
       "                             \n",
       "                    WindDir  \n",
       "DateTime                     \n",
       "1980-03-01 11:00:00   280.0  "
      ]
     },
     "execution_count": 13,
     "metadata": {},
     "output_type": "execute_result"
    }
   ],
   "source": [
    "df.head(1)"
   ]
  },
  {
   "cell_type": "markdown",
   "metadata": {},
   "source": [
    "### Data Errors\n",
    "\n",
    "There are some errors in this data. As shown in the plot below, the temperature in the city of Odense suddenly jumped to almost 50 degrees C. But the highest temperature ever measured in Denmark was only 36.4 degrees Celcius and the lowest was -31.2 C. So this is clearly a data error. However, we will not correct any data-errors in this tutorial."
   ]
  },
  {
   "cell_type": "code",
   "execution_count": 14,
   "metadata": {},
   "outputs": [
    {
     "data": {
      "image/png": "[encoded data removed]",
      "text/plain": [
       "<Figure size 640x480 with 1 Axes>"
      ]
     },
     "metadata": {},
     "output_type": "display_data"
    }
   ],
   "source": [
    "df['Odense']['Temp']['2006-05':'2006-07'].plot();"
   ]
  },
  {
   "cell_type": "markdown",
   "metadata": {},
   "source": [
    "This can also be confirmed to be an error by considering the temperatures in some of the other cities in Denmark for that period, which was only around 10 degrees. Because the country is so small, it is not possible for one city in Denmark to have 50 degrees while another city only has 10 degrees."
   ]
  },
  {
   "cell_type": "code",
   "execution_count": 15,
   "metadata": {
    "scrolled": true
   },
   "outputs": [
    {
     "data": {
      "image/png": "[encoded data removed]",
      "text/plain": [
       "<Figure size 640x480 with 1 Axes>"
      ]
     },
     "metadata": {},
     "output_type": "display_data"
    }
   ],
   "source": [
    "df['Aarhus']['Temp']['2006-05':'2006-07'].plot();"
   ]
  },
  {
   "cell_type": "code",
   "execution_count": 16,
   "metadata": {},
   "outputs": [
    {
     "data": {
      "image/png": "[encoded data removed]",
      "text/plain": [
       "<Figure size 640x480 with 1 Axes>"
      ]
     },
     "metadata": {},
     "output_type": "display_data"
    }
   ],
   "source": [
    "df['Roskilde']['Temp']['2006-05':'2006-07'].plot();"
   ]
  },
  {
   "cell_type": "markdown",
   "metadata": {},
   "source": [
    "### Add Data\n",
    "\n",
    "We can add some input-signals to the data that may help our model in making predictions.\n",
    "\n",
    "For example, given just a temperature of 10 degrees Celcius the model wouldn't know whether that temperature was measured during the day or the night, or during summer or winter. The model would have to infer this from the surrounding data-points which might not be very accurate for determining whether it's an abnormally warm winter, or an abnormally cold summer, or whether it's day or night. So having this information could make a big difference in how accurately the model can predict the next output.\n",
    "\n",
    "Although the data-set does contain the date and time information for each observation, it is only used in the index so as to order the data. We will therefore add separate input-signals to the data-set for the day-of-year (between 1 and 366) and the hour-of-day (between 0 and 23)."
   ]
  },
  {
   "cell_type": "code",
   "execution_count": 17,
   "metadata": {},
   "outputs": [],
   "source": [
    "df['Various', 'Day'] = df.index.dayofyear\n",
    "df['Various', 'Hour'] = df.index.hour"
   ]
  },
  {
   "cell_type": "markdown",
   "metadata": {},
   "source": [
    "### Target Data for Prediction\n",
    "\n",
    "We will try and predict the future weather-data for this city."
   ]
  },
  {
   "cell_type": "code",
   "execution_count": 18,
   "metadata": {},
   "outputs": [],
   "source": [
    "target_city = 'Odense'"
   ]
  },
  {
   "cell_type": "markdown",
   "metadata": {},
   "source": [
    "We will try and predict these signals."
   ]
  },
  {
   "cell_type": "code",
   "execution_count": 19,
   "metadata": {},
   "outputs": [],
   "source": [
    "target_names = ['Temp', 'WindSpeed', 'Pressure']"
   ]
  },
  {
   "cell_type": "markdown",
   "metadata": {},
   "source": [
    "The following is the number of time-steps that we will shift the target-data. Our data-set is resampled to have an observation for each hour, so there are 24 observations for 24 hours.\n",
    "\n",
    "If we want to predict the weather 24 hours into the future, we shift the data 24 time-steps. If we want to predict the weather 7 days into the future, we shift the data 7 * 24 time-steps."
   ]
  },
  {
   "cell_type": "code",
   "execution_count": 20,
   "metadata": {},
   "outputs": [],
   "source": [
    "shift_days = 1\n",
    "shift_steps = shift_days * 24  # Number of hours."
   ]
  },
  {
   "cell_type": "markdown",
   "metadata": {},
   "source": [
    "Create a new data-frame with the time-shifted data.\n",
    "\n",
    "**Note the negative time-shift!**"
   ]
  },
  {
   "cell_type": "code",
   "execution_count": 21,
   "metadata": {},
   "outputs": [],
   "source": [
    "df_targets = df[target_city][target_names].shift(-shift_steps)"
   ]
  },
  {
   "cell_type": "markdown",
   "metadata": {},
   "source": [
    "**WARNING!** You should double-check that you have shifted the data in the right direction! We want to predict the future, not the past!\n",
    "\n",
    "The shifted data-frame is confusing because Pandas keeps the original time-stamps even though we have shifted the data. You can check the time-shift is correct by comparing the original and time-shifted data-frames.\n",
    "\n",
    "This is the first `shift_steps + 5` rows of the original data-frame:"
   ]
  },
  {
   "cell_type": "code",
   "execution_count": 22,
   "metadata": {},
   "outputs": [
    {
     "data": {
      "text/html": [
       "<div>\n",
       "<style scoped>\n",
       "    .dataframe tbody tr th:only-of-type {\n",
       "        vertical-align: middle;\n",
       "    }\n",
       "\n",
       "    .dataframe tbody tr th {\n",
       "        vertical-align: top;\n",
       "    }\n",
       "\n",
       "    .dataframe thead th {\n",
       "        text-align: right;\n",
       "    }\n",
       "</style>\n",
       "<table border=\"1\" class=\"dataframe\">\n",
       "  <thead>\n",
       "    <tr style=\"text-align: right;\">\n",
       "      <th></th>\n",
       "      <th>Temp</th>\n",
       "      <th>WindSpeed</th>\n",
       "      <th>Pressure</th>\n",
       "    </tr>\n",
       "    <tr>\n",
       "      <th>DateTime</th>\n",
       "      <th></th>\n",
       "      <th></th>\n",
       "      <th></th>\n",
       "    </tr>\n",
       "  </thead>\n",
       "  <tbody>\n",
       "    <tr>\n",
       "      <th>1980-03-01 11:00:00</th>\n",
       "      <td>6.142857</td>\n",
       "      <td>12.585714</td>\n",
       "      <td>1011.066667</td>\n",
       "    </tr>\n",
       "    <tr>\n",
       "      <th>1980-03-01 12:00:00</th>\n",
       "      <td>7.000000</td>\n",
       "      <td>11.300000</td>\n",
       "      <td>1011.200000</td>\n",
       "    </tr>\n",
       "    <tr>\n",
       "      <th>1980-03-01 13:00:00</th>\n",
       "      <td>7.000000</td>\n",
       "      <td>12.118182</td>\n",
       "      <td>1011.300000</td>\n",
       "    </tr>\n",
       "    <tr>\n",
       "      <th>1980-03-01 14:00:00</th>\n",
       "      <td>6.857143</td>\n",
       "      <td>12.742857</td>\n",
       "      <td>1011.400000</td>\n",
       "    </tr>\n",
       "    <tr>\n",
       "      <th>1980-03-01 15:00:00</th>\n",
       "      <td>6.000000</td>\n",
       "      <td>12.400000</td>\n",
       "      <td>1011.500000</td>\n",
       "    </tr>\n",
       "    <tr>\n",
       "      <th>1980-03-01 16:00:00</th>\n",
       "      <td>4.909091</td>\n",
       "      <td>12.618182</td>\n",
       "      <td>1011.688889</td>\n",
       "    </tr>\n",
       "    <tr>\n",
       "      <th>1980-03-01 17:00:00</th>\n",
       "      <td>3.953488</td>\n",
       "      <td>12.646512</td>\n",
       "      <td>1011.877778</td>\n",
       "    </tr>\n",
       "    <tr>\n",
       "      <th>1980-03-01 18:00:00</th>\n",
       "      <td>3.674419</td>\n",
       "      <td>11.725581</td>\n",
       "      <td>1012.066667</td>\n",
       "    </tr>\n",
       "    <tr>\n",
       "      <th>1980-03-01 19:00:00</th>\n",
       "      <td>3.395349</td>\n",
       "      <td>10.804651</td>\n",
       "      <td>1012.255556</td>\n",
       "    </tr>\n",
       "    <tr>\n",
       "      <th>1980-03-01 20:00:00</th>\n",
       "      <td>3.116279</td>\n",
       "      <td>9.883721</td>\n",
       "      <td>1012.444444</td>\n",
       "    </tr>\n",
       "    <tr>\n",
       "      <th>1980-03-01 21:00:00</th>\n",
       "      <td>2.837209</td>\n",
       "      <td>8.962791</td>\n",
       "      <td>1012.633333</td>\n",
       "    </tr>\n",
       "    <tr>\n",
       "      <th>1980-03-01 22:00:00</th>\n",
       "      <td>2.558140</td>\n",
       "      <td>8.041860</td>\n",
       "      <td>1012.822222</td>\n",
       "    </tr>\n",
       "    <tr>\n",
       "      <th>1980-03-01 23:00:00</th>\n",
       "      <td>2.279070</td>\n",
       "      <td>7.120930</td>\n",
       "      <td>1013.011111</td>\n",
       "    </tr>\n",
       "    <tr>\n",
       "      <th>1980-03-02 00:00:00</th>\n",
       "      <td>2.000000</td>\n",
       "      <td>6.200000</td>\n",
       "      <td>1013.200000</td>\n",
       "    </tr>\n",
       "    <tr>\n",
       "      <th>1980-03-02 01:00:00</th>\n",
       "      <td>2.076923</td>\n",
       "      <td>7.738462</td>\n",
       "      <td>1012.366667</td>\n",
       "    </tr>\n",
       "    <tr>\n",
       "      <th>1980-03-02 02:00:00</th>\n",
       "      <td>2.538462</td>\n",
       "      <td>7.969231</td>\n",
       "      <td>1011.533333</td>\n",
       "    </tr>\n",
       "    <tr>\n",
       "      <th>1980-03-02 03:00:00</th>\n",
       "      <td>3.000000</td>\n",
       "      <td>8.200000</td>\n",
       "      <td>1010.700000</td>\n",
       "    </tr>\n",
       "    <tr>\n",
       "      <th>1980-03-02 04:00:00</th>\n",
       "      <td>3.000000</td>\n",
       "      <td>7.927273</td>\n",
       "      <td>1010.100000</td>\n",
       "    </tr>\n",
       "    <tr>\n",
       "      <th>1980-03-02 05:00:00</th>\n",
       "      <td>2.916667</td>\n",
       "      <td>7.658333</td>\n",
       "      <td>1009.500000</td>\n",
       "    </tr>\n",
       "    <tr>\n",
       "      <th>1980-03-02 06:00:00</th>\n",
       "      <td>2.416667</td>\n",
       "      <td>7.408333</td>\n",
       "      <td>1008.900000</td>\n",
       "    </tr>\n",
       "    <tr>\n",
       "      <th>1980-03-02 07:00:00</th>\n",
       "      <td>2.000000</td>\n",
       "      <td>7.100000</td>\n",
       "      <td>1008.300000</td>\n",
       "    </tr>\n",
       "    <tr>\n",
       "      <th>1980-03-02 08:00:00</th>\n",
       "      <td>2.142857</td>\n",
       "      <td>6.542857</td>\n",
       "      <td>1007.700000</td>\n",
       "    </tr>\n",
       "    <tr>\n",
       "      <th>1980-03-02 09:00:00</th>\n",
       "      <td>3.000000</td>\n",
       "      <td>6.200000</td>\n",
       "      <td>1007.100000</td>\n",
       "    </tr>\n",
       "    <tr>\n",
       "      <th>1980-03-02 10:00:00</th>\n",
       "      <td>2.833333</td>\n",
       "      <td>8.350000</td>\n",
       "      <td>1006.466667</td>\n",
       "    </tr>\n",
       "    <tr>\n",
       "      <th>1980-03-02 11:00:00</th>\n",
       "      <td>2.000000</td>\n",
       "      <td>6.828571</td>\n",
       "      <td>1005.833333</td>\n",
       "    </tr>\n",
       "    <tr>\n",
       "      <th>1980-03-02 12:00:00</th>\n",
       "      <td>2.000000</td>\n",
       "      <td>8.200000</td>\n",
       "      <td>1005.200000</td>\n",
       "    </tr>\n",
       "    <tr>\n",
       "      <th>1980-03-02 13:00:00</th>\n",
       "      <td>0.166667</td>\n",
       "      <td>9.216667</td>\n",
       "      <td>1004.766667</td>\n",
       "    </tr>\n",
       "    <tr>\n",
       "      <th>1980-03-02 14:00:00</th>\n",
       "      <td>1.000000</td>\n",
       "      <td>11.885714</td>\n",
       "      <td>1004.333333</td>\n",
       "    </tr>\n",
       "    <tr>\n",
       "      <th>1980-03-02 15:00:00</th>\n",
       "      <td>1.000000</td>\n",
       "      <td>12.400000</td>\n",
       "      <td>1003.900000</td>\n",
       "    </tr>\n",
       "  </tbody>\n",
       "</table>\n",
       "</div>"
      ],
      "text/plain": [
       "                         Temp  WindSpeed     Pressure\n",
       "DateTime                                             \n",
       "1980-03-01 11:00:00  6.142857  12.585714  1011.066667\n",
       "1980-03-01 12:00:00  7.000000  11.300000  1011.200000\n",
       "1980-03-01 13:00:00  7.000000  12.118182  1011.300000\n",
       "1980-03-01 14:00:00  6.857143  12.742857  1011.400000\n",
       "1980-03-01 15:00:00  6.000000  12.400000  1011.500000\n",
       "1980-03-01 16:00:00  4.909091  12.618182  1011.688889\n",
       "1980-03-01 17:00:00  3.953488  12.646512  1011.877778\n",
       "1980-03-01 18:00:00  3.674419  11.725581  1012.066667\n",
       "1980-03-01 19:00:00  3.395349  10.804651  1012.255556\n",
       "1980-03-01 20:00:00  3.116279   9.883721  1012.444444\n",
       "1980-03-01 21:00:00  2.837209   8.962791  1012.633333\n",
       "1980-03-01 22:00:00  2.558140   8.041860  1012.822222\n",
       "1980-03-01 23:00:00  2.279070   7.120930  1013.011111\n",
       "1980-03-02 00:00:00  2.000000   6.200000  1013.200000\n",
       "1980-03-02 01:00:00  2.076923   7.738462  1012.366667\n",
       "1980-03-02 02:00:00  2.538462   7.969231  1011.533333\n",
       "1980-03-02 03:00:00  3.000000   8.200000  1010.700000\n",
       "1980-03-02 04:00:00  3.000000   7.927273  1010.100000\n",
       "1980-03-02 05:00:00  2.916667   7.658333  1009.500000\n",
       "1980-03-02 06:00:00  2.416667   7.408333  1008.900000\n",
       "1980-03-02 07:00:00  2.000000   7.100000  1008.300000\n",
       "1980-03-02 08:00:00  2.142857   6.542857  1007.700000\n",
       "1980-03-02 09:00:00  3.000000   6.200000  1007.100000\n",
       "1980-03-02 10:00:00  2.833333   8.350000  1006.466667\n",
       "1980-03-02 11:00:00  2.000000   6.828571  1005.833333\n",
       "1980-03-02 12:00:00  2.000000   8.200000  1005.200000\n",
       "1980-03-02 13:00:00  0.166667   9.216667  1004.766667\n",
       "1980-03-02 14:00:00  1.000000  11.885714  1004.333333\n",
       "1980-03-02 15:00:00  1.000000  12.400000  1003.900000"
      ]
     },
     "execution_count": 22,
     "metadata": {},
     "output_type": "execute_result"
    }
   ],
   "source": [
    "df[target_city][target_names].head(shift_steps + 5)"
   ]
  },
  {
   "cell_type": "markdown",
   "metadata": {},
   "source": [
    "The following is the first 5 rows of the time-shifted data-frame. This should be identical to the last 5 rows shown above from the original data, except for the time-stamp."
   ]
  },
  {
   "cell_type": "code",
   "execution_count": 23,
   "metadata": {},
   "outputs": [
    {
     "data": {
      "text/html": [
       "<div>\n",
       "<style scoped>\n",
       "    .dataframe tbody tr th:only-of-type {\n",
       "        vertical-align: middle;\n",
       "    }\n",
       "\n",
       "    .dataframe tbody tr th {\n",
       "        vertical-align: top;\n",
       "    }\n",
       "\n",
       "    .dataframe thead th {\n",
       "        text-align: right;\n",
       "    }\n",
       "</style>\n",
       "<table border=\"1\" class=\"dataframe\">\n",
       "  <thead>\n",
       "    <tr style=\"text-align: right;\">\n",
       "      <th></th>\n",
       "      <th>Temp</th>\n",
       "      <th>WindSpeed</th>\n",
       "      <th>Pressure</th>\n",
       "    </tr>\n",
       "    <tr>\n",
       "      <th>DateTime</th>\n",
       "      <th></th>\n",
       "      <th></th>\n",
       "      <th></th>\n",
       "    </tr>\n",
       "  </thead>\n",
       "  <tbody>\n",
       "    <tr>\n",
       "      <th>1980-03-01 11:00:00</th>\n",
       "      <td>2.000000</td>\n",
       "      <td>6.828571</td>\n",
       "      <td>1005.833333</td>\n",
       "    </tr>\n",
       "    <tr>\n",
       "      <th>1980-03-01 12:00:00</th>\n",
       "      <td>2.000000</td>\n",
       "      <td>8.200000</td>\n",
       "      <td>1005.200000</td>\n",
       "    </tr>\n",
       "    <tr>\n",
       "      <th>1980-03-01 13:00:00</th>\n",
       "      <td>0.166667</td>\n",
       "      <td>9.216667</td>\n",
       "      <td>1004.766667</td>\n",
       "    </tr>\n",
       "    <tr>\n",
       "      <th>1980-03-01 14:00:00</th>\n",
       "      <td>1.000000</td>\n",
       "      <td>11.885714</td>\n",
       "      <td>1004.333333</td>\n",
       "    </tr>\n",
       "    <tr>\n",
       "      <th>1980-03-01 15:00:00</th>\n",
       "      <td>1.000000</td>\n",
       "      <td>12.400000</td>\n",
       "      <td>1003.900000</td>\n",
       "    </tr>\n",
       "  </tbody>\n",
       "</table>\n",
       "</div>"
      ],
      "text/plain": [
       "                         Temp  WindSpeed     Pressure\n",
       "DateTime                                             \n",
       "1980-03-01 11:00:00  2.000000   6.828571  1005.833333\n",
       "1980-03-01 12:00:00  2.000000   8.200000  1005.200000\n",
       "1980-03-01 13:00:00  0.166667   9.216667  1004.766667\n",
       "1980-03-01 14:00:00  1.000000  11.885714  1004.333333\n",
       "1980-03-01 15:00:00  1.000000  12.400000  1003.900000"
      ]
     },
     "execution_count": 23,
     "metadata": {},
     "output_type": "execute_result"
    }
   ],
   "source": [
    "df_targets.head(5)"
   ]
  },
  {
   "cell_type": "markdown",
   "metadata": {},
   "source": [
    "The time-shifted data-frame has the same length as the original data-frame, but the last observations are `NaN` (not a number) because the data has been shifted backwards so we are trying to shift data that does not exist in the original data-frame."
   ]
  },
  {
   "cell_type": "code",
   "execution_count": 24,
   "metadata": {},
   "outputs": [
    {
     "data": {
      "text/html": [
       "<div>\n",
       "<style scoped>\n",
       "    .dataframe tbody tr th:only-of-type {\n",
       "        vertical-align: middle;\n",
       "    }\n",
       "\n",
       "    .dataframe tbody tr th {\n",
       "        vertical-align: top;\n",
       "    }\n",
       "\n",
       "    .dataframe thead th {\n",
       "        text-align: right;\n",
       "    }\n",
       "</style>\n",
       "<table border=\"1\" class=\"dataframe\">\n",
       "  <thead>\n",
       "    <tr style=\"text-align: right;\">\n",
       "      <th></th>\n",
       "      <th>Temp</th>\n",
       "      <th>WindSpeed</th>\n",
       "      <th>Pressure</th>\n",
       "    </tr>\n",
       "    <tr>\n",
       "      <th>DateTime</th>\n",
       "      <th></th>\n",
       "      <th></th>\n",
       "      <th></th>\n",
       "    </tr>\n",
       "  </thead>\n",
       "  <tbody>\n",
       "    <tr>\n",
       "      <th>2018-03-01 19:00:00</th>\n",
       "      <td>NaN</td>\n",
       "      <td>NaN</td>\n",
       "      <td>NaN</td>\n",
       "    </tr>\n",
       "    <tr>\n",
       "      <th>2018-03-01 20:00:00</th>\n",
       "      <td>NaN</td>\n",
       "      <td>NaN</td>\n",
       "      <td>NaN</td>\n",
       "    </tr>\n",
       "    <tr>\n",
       "      <th>2018-03-01 21:00:00</th>\n",
       "      <td>NaN</td>\n",
       "      <td>NaN</td>\n",
       "      <td>NaN</td>\n",
       "    </tr>\n",
       "    <tr>\n",
       "      <th>2018-03-01 22:00:00</th>\n",
       "      <td>NaN</td>\n",
       "      <td>NaN</td>\n",
       "      <td>NaN</td>\n",
       "    </tr>\n",
       "    <tr>\n",
       "      <th>2018-03-01 23:00:00</th>\n",
       "      <td>NaN</td>\n",
       "      <td>NaN</td>\n",
       "      <td>NaN</td>\n",
       "    </tr>\n",
       "  </tbody>\n",
       "</table>\n",
       "</div>"
      ],
      "text/plain": [
       "                     Temp  WindSpeed  Pressure\n",
       "DateTime                                      \n",
       "2018-03-01 19:00:00   NaN        NaN       NaN\n",
       "2018-03-01 20:00:00   NaN        NaN       NaN\n",
       "2018-03-01 21:00:00   NaN        NaN       NaN\n",
       "2018-03-01 22:00:00   NaN        NaN       NaN\n",
       "2018-03-01 23:00:00   NaN        NaN       NaN"
      ]
     },
     "execution_count": 24,
     "metadata": {},
     "output_type": "execute_result"
    }
   ],
   "source": [
    "df_targets.tail()"
   ]
  },
  {
   "cell_type": "markdown",
   "metadata": {},
   "source": [
    "### NumPy Arrays\n",
    "\n",
    "We now convert the Pandas data-frames to NumPy arrays that can be input to the neural network. We also remove the last part of the numpy arrays, because the target-data has `NaN` for the shifted period, and we only want to have valid data and we need the same array-shapes for the input- and output-data.\n",
    "\n",
    "These are the input-signals:"
   ]
  },
  {
   "cell_type": "code",
   "execution_count": 25,
   "metadata": {},
   "outputs": [],
   "source": [
    "x_data = df.values[0:-shift_steps]"
   ]
  },
  {
   "cell_type": "code",
   "execution_count": 26,
   "metadata": {},
   "outputs": [
    {
     "name": "stdout",
     "output_type": "stream",
     "text": [
      "<class 'numpy.ndarray'>\n",
      "Shape: (333085, 20)\n"
     ]
    }
   ],
   "source": [
    "print(type(x_data))\n",
    "print(\"Shape:\", x_data.shape)"
   ]
  },
  {
   "cell_type": "markdown",
   "metadata": {},
   "source": [
    "These are the output-signals (or target-signals):"
   ]
  },
  {
   "cell_type": "code",
   "execution_count": 27,
   "metadata": {},
   "outputs": [],
   "source": [
    "y_data = df_targets.values[:-shift_steps]"
   ]
  },
  {
   "cell_type": "code",
   "execution_count": 28,
   "metadata": {
    "scrolled": true
   },
   "outputs": [
    {
     "name": "stdout",
     "output_type": "stream",
     "text": [
      "<class 'numpy.ndarray'>\n",
      "Shape: (333085, 3)\n"
     ]
    }
   ],
   "source": [
    "print(type(y_data))\n",
    "print(\"Shape:\", y_data.shape)"
   ]
  },
  {
   "cell_type": "markdown",
   "metadata": {},
   "source": [
    "This is the number of observations (aka. data-points or samples) in the data-set:"
   ]
  },
  {
   "cell_type": "code",
   "execution_count": 29,
   "metadata": {},
   "outputs": [
    {
     "data": {
      "text/plain": [
       "333085"
      ]
     },
     "execution_count": 29,
     "metadata": {},
     "output_type": "execute_result"
    }
   ],
   "source": [
    "num_data = len(x_data)\n",
    "num_data"
   ]
  },
  {
   "cell_type": "markdown",
   "metadata": {},
   "source": [
    "This is the fraction of the data-set that will be used for the training-set:"
   ]
  },
  {
   "cell_type": "code",
   "execution_count": 30,
   "metadata": {},
   "outputs": [],
   "source": [
    "train_split = 0.9"
   ]
  },
  {
   "cell_type": "markdown",
   "metadata": {},
   "source": [
    "This is the number of observations in the training-set:"
   ]
  },
  {
   "cell_type": "code",
   "execution_count": 31,
   "metadata": {},
   "outputs": [
    {
     "data": {
      "text/plain": [
       "299776"
      ]
     },
     "execution_count": 31,
     "metadata": {},
     "output_type": "execute_result"
    }
   ],
   "source": [
    "num_train = int(train_split * num_data)\n",
    "num_train"
   ]
  },
  {
   "cell_type": "markdown",
   "metadata": {},
   "source": [
    "This is the number of observations in the test-set:"
   ]
  },
  {
   "cell_type": "code",
   "execution_count": 32,
   "metadata": {},
   "outputs": [
    {
     "data": {
      "text/plain": [
       "33309"
      ]
     },
     "execution_count": 32,
     "metadata": {},
     "output_type": "execute_result"
    }
   ],
   "source": [
    "num_test = num_data - num_train\n",
    "num_test"
   ]
  },
  {
   "cell_type": "markdown",
   "metadata": {},
   "source": [
    "These are the input-signals for the training- and test-sets:"
   ]
  },
  {
   "cell_type": "code",
   "execution_count": 33,
   "metadata": {},
   "outputs": [
    {
     "data": {
      "text/plain": [
       "333085"
      ]
     },
     "execution_count": 33,
     "metadata": {},
     "output_type": "execute_result"
    }
   ],
   "source": [
    "x_train = x_data[0:num_train]\n",
    "x_test = x_data[num_train:]\n",
    "len(x_train) + len(x_test)"
   ]
  },
  {
   "cell_type": "markdown",
   "metadata": {},
   "source": [
    "These are the output-signals for the training- and test-sets:"
   ]
  },
  {
   "cell_type": "code",
   "execution_count": 34,
   "metadata": {},
   "outputs": [
    {
     "data": {
      "text/plain": [
       "333085"
      ]
     },
     "execution_count": 34,
     "metadata": {},
     "output_type": "execute_result"
    }
   ],
   "source": [
    "y_train = y_data[0:num_train]\n",
    "y_test = y_data[num_train:]\n",
    "len(y_train) + len(y_test)"
   ]
  },
  {
   "cell_type": "markdown",
   "metadata": {},
   "source": [
    "This is the number of input-signals:"
   ]
  },
  {
   "cell_type": "code",
   "execution_count": 35,
   "metadata": {},
   "outputs": [
    {
     "data": {
      "text/plain": [
       "20"
      ]
     },
     "execution_count": 35,
     "metadata": {},
     "output_type": "execute_result"
    }
   ],
   "source": [
    "num_x_signals = x_data.shape[1]\n",
    "num_x_signals"
   ]
  },
  {
   "cell_type": "markdown",
   "metadata": {},
   "source": [
    "This is the number of output-signals:"
   ]
  },
  {
   "cell_type": "code",
   "execution_count": 36,
   "metadata": {
    "scrolled": true
   },
   "outputs": [
    {
     "data": {
      "text/plain": [
       "3"
      ]
     },
     "execution_count": 36,
     "metadata": {},
     "output_type": "execute_result"
    }
   ],
   "source": [
    "num_y_signals = y_data.shape[1]\n",
    "num_y_signals"
   ]
  },
  {
   "cell_type": "markdown",
   "metadata": {},
   "source": [
    "### Scaled Data\n",
    "\n",
    "The data-set contains a wide range of values:"
   ]
  },
  {
   "cell_type": "code",
   "execution_count": 37,
   "metadata": {},
   "outputs": [
    {
     "name": "stdout",
     "output_type": "stream",
     "text": [
      "Min: -27.0\n",
      "Max: 1050.8\n"
     ]
    }
   ],
   "source": [
    "print(\"Min:\", np.min(x_train))\n",
    "print(\"Max:\", np.max(x_train))"
   ]
  },
  {
   "cell_type": "markdown",
   "metadata": {},
   "source": [
    "The neural network works best on values roughly between -1 and 1, so we need to scale the data before it is being input to the neural network. We can use `scikit-learn` for this.\n",
    "\n",
    "We first create a scaler-object for the input-signals."
   ]
  },
  {
   "cell_type": "code",
   "execution_count": 38,
   "metadata": {},
   "outputs": [],
   "source": [
    "x_scaler = MinMaxScaler()"
   ]
  },
  {
   "cell_type": "markdown",
   "metadata": {},
   "source": [
    "We then detect the range of values from the training-data and scale the training-data."
   ]
  },
  {
   "cell_type": "code",
   "execution_count": 39,
   "metadata": {},
   "outputs": [],
   "source": [
    "x_train_scaled = x_scaler.fit_transform(x_train)"
   ]
  },
  {
   "cell_type": "markdown",
   "metadata": {},
   "source": [
    "Apart from a small rounding-error, the data has been scaled to be between 0 and 1."
   ]
  },
  {
   "cell_type": "code",
   "execution_count": 40,
   "metadata": {},
   "outputs": [
    {
     "name": "stdout",
     "output_type": "stream",
     "text": [
      "Min: 0.0\n",
      "Max: 1.0000000000000002\n"
     ]
    }
   ],
   "source": [
    "print(\"Min:\", np.min(x_train_scaled))\n",
    "print(\"Max:\", np.max(x_train_scaled))"
   ]
  },
  {
   "cell_type": "markdown",
   "metadata": {},
   "source": [
    "We use the same scaler-object for the input-signals in the test-set."
   ]
  },
  {
   "cell_type": "code",
   "execution_count": 41,
   "metadata": {},
   "outputs": [],
   "source": [
    "x_test_scaled = x_scaler.transform(x_test)"
   ]
  },
  {
   "cell_type": "markdown",
   "metadata": {},
   "source": [
    "The target-data comes from the same data-set as the input-signals, because it is the weather-data for one of the cities that is merely time-shifted. But the target-data could be from a different source with different value-ranges, so we create a separate scaler-object for the target-data."
   ]
  },
  {
   "cell_type": "code",
   "execution_count": 42,
   "metadata": {},
   "outputs": [],
   "source": [
    "y_scaler = MinMaxScaler()\n",
    "y_train_scaled = y_scaler.fit_transform(y_train)\n",
    "y_test_scaled = y_scaler.transform(y_test)"
   ]
  },
  {
   "cell_type": "markdown",
   "metadata": {},
   "source": [
    "## Data Generator\n",
    "\n",
    "The data-set has now been prepared as 2-dimensional numpy arrays. The training-data has almost 300k observations, consisting of 20 input-signals and 3 output-signals.\n",
    "\n",
    "These are the array-shapes of the input and output data:"
   ]
  },
  {
   "cell_type": "code",
   "execution_count": 43,
   "metadata": {},
   "outputs": [
    {
     "name": "stdout",
     "output_type": "stream",
     "text": [
      "(299776, 20)\n",
      "(299776, 3)\n"
     ]
    }
   ],
   "source": [
    "print(x_train_scaled.shape)\n",
    "print(y_train_scaled.shape)"
   ]
  },
  {
   "cell_type": "markdown",
   "metadata": {},
   "source": [
    "Instead of training the Recurrent Neural Network on the complete sequences of almost 300k observations, we will use the following function to create a batch of shorter sub-sequences picked at random from the training-data."
   ]
  },
  {
   "cell_type": "code",
   "execution_count": 44,
   "metadata": {},
   "outputs": [],
   "source": [
    "def batch_generator(batch_size, sequence_length):\n",
    "    \"\"\"\n",
    "    Generator function for creating random batches of training-data.\n",
    "    \"\"\"\n",
    "\n",
    "    # Infinite loop.\n",
    "    while True:\n",
    "        # Allocate a new array for the batch of input-signals.\n",
    "        x_shape = (batch_size, sequence_length, num_x_signals)\n",
    "        x_batch = np.zeros(shape=x_shape, dtype=np.float16)\n",
    "\n",
    "        # Allocate a new array for the batch of output-signals.\n",
    "        y_shape = (batch_size, sequence_length, num_y_signals)\n",
    "        y_batch = np.zeros(shape=y_shape, dtype=np.float16)\n",
    "\n",
    "        # Fill the batch with random sequences of data.\n",
    "        for i in range(batch_size):\n",
    "            # Get a random start-index.\n",
    "            # This points somewhere into the training-data.\n",
    "            idx = np.random.randint(num_train - sequence_length)\n",
    "            \n",
    "            # Copy the sequences of data starting at this index.\n",
    "            x_batch[i] = x_train_scaled[idx:idx+sequence_length]\n",
    "            y_batch[i] = y_train_scaled[idx:idx+sequence_length]\n",
    "        \n",
    "        yield (x_batch, y_batch)"
   ]
  },
  {
   "cell_type": "markdown",
   "metadata": {},
   "source": [
    "We will use a large batch-size so as to keep the GPU near 100% work-load. You may have to adjust this number depending on your GPU, its RAM and your choice of `sequence_length` below."
   ]
  },
  {
   "cell_type": "code",
   "execution_count": 45,
   "metadata": {},
   "outputs": [],
   "source": [
    "batch_size = 256"
   ]
  },
  {
   "cell_type": "markdown",
   "metadata": {},
   "source": [
    "We will use a sequence-length of 1344, which means that each random sequence contains observations for 8 weeks. One time-step corresponds to one hour, so 24 x 7 time-steps corresponds to a week, and 24 x 7 x 8 corresponds to 8 weeks."
   ]
  },
  {
   "cell_type": "code",
   "execution_count": 46,
   "metadata": {},
   "outputs": [
    {
     "data": {
      "text/plain": [
       "1344"
      ]
     },
     "execution_count": 46,
     "metadata": {},
     "output_type": "execute_result"
    }
   ],
   "source": [
    "sequence_length = 24 * 7 * 8\n",
    "sequence_length"
   ]
  },
  {
   "cell_type": "markdown",
   "metadata": {},
   "source": [
    "We then create the batch-generator."
   ]
  },
  {
   "cell_type": "code",
   "execution_count": 47,
   "metadata": {},
   "outputs": [],
   "source": [
    "generator = batch_generator(batch_size=batch_size,\n",
    "                            sequence_length=sequence_length)"
   ]
  },
  {
   "cell_type": "markdown",
   "metadata": {},
   "source": [
    "We can then test the batch-generator to see if it works."
   ]
  },
  {
   "cell_type": "code",
   "execution_count": 48,
   "metadata": {},
   "outputs": [],
   "source": [
    "x_batch, y_batch = next(generator)"
   ]
  },
  {
   "cell_type": "markdown",
   "metadata": {},
   "source": [
    "This gives us a random batch of 256 sequences, each sequence having 1344 observations, and each observation having 20 input-signals and 3 output-signals."
   ]
  },
  {
   "cell_type": "code",
   "execution_count": 49,
   "metadata": {},
   "outputs": [
    {
     "name": "stdout",
     "output_type": "stream",
     "text": [
      "(256, 1344, 20)\n",
      "(256, 1344, 3)\n"
     ]
    }
   ],
   "source": [
    "print(x_batch.shape)\n",
    "print(y_batch.shape)"
   ]
  },
  {
   "cell_type": "markdown",
   "metadata": {},
   "source": [
    "We can plot one of the 20 input-signals as an example."
   ]
  },
  {
   "cell_type": "code",
   "execution_count": 50,
   "metadata": {},
   "outputs": [
    {
     "data": {
      "text/plain": [
       "[<matplotlib.lines.Line2D at 0x7f4441db58a0>]"
      ]
     },
     "execution_count": 50,
     "metadata": {},
     "output_type": "execute_result"
    },
    {
     "data": {
      "image/png": "[encoded data removed]",
      "text/plain": [
       "<Figure size 640x480 with 1 Axes>"
      ]
     },
     "metadata": {},
     "output_type": "display_data"
    }
   ],
   "source": [
    "batch = 0   # First sequence in the batch.\n",
    "signal = 0  # First signal from the 20 input-signals.\n",
    "seq = x_batch[batch, :, signal]\n",
    "plt.plot(seq)"
   ]
  },
  {
   "cell_type": "markdown",
   "metadata": {},
   "source": [
    "We can also plot one of the output-signals that we want the model to learn how to predict given all those 20 input signals."
   ]
  },
  {
   "cell_type": "code",
   "execution_count": 51,
   "metadata": {},
   "outputs": [
    {
     "data": {
      "text/plain": [
       "[<matplotlib.lines.Line2D at 0x7f4441e24b20>]"
      ]
     },
     "execution_count": 51,
     "metadata": {},
     "output_type": "execute_result"
    },
    {
     "data": {
      "image/png": "[encoded data removed]",
      "text/plain": [
       "<Figure size 640x480 with 1 Axes>"
      ]
     },
     "metadata": {},
     "output_type": "display_data"
    }
   ],
   "source": [
    "seq = y_batch[batch, :, signal]\n",
    "plt.plot(seq)"
   ]
  },
  {
   "cell_type": "markdown",
   "metadata": {},
   "source": [
    "### Validation Set\n",
    "\n",
    "The neural network trains quickly so we can easily run many training epochs. But then there is a risk of overfitting the model to the training-set so it does not generalize well to unseen data. We will therefore monitor the model's performance on the test-set after each epoch and only save the model's weights if the performance is improved on the test-set.\n",
    "\n",
    "The batch-generator randomly selects a batch of short sequences from the training-data and uses that during training. But for the validation-data we will instead run through the entire sequence from the test-set and measure the prediction accuracy on that entire sequence."
   ]
  },
  {
   "cell_type": "code",
   "execution_count": 52,
   "metadata": {},
   "outputs": [],
   "source": [
    "validation_data = (np.expand_dims(x_test_scaled, axis=0),\n",
    "                   np.expand_dims(y_test_scaled, axis=0))"
   ]
  },
  {
   "cell_type": "markdown",
   "metadata": {},
   "source": [
    "## Create the Recurrent Neural Network\n",
    "\n",
    "We are now ready to create the Recurrent Neural Network (RNN). We will use the Keras API for this because of its simplicity. See Tutorial #03-C for a tutorial on Keras and Tutorial #20 for more information on Recurrent Neural Networks."
   ]
  },
  {
   "cell_type": "code",
   "execution_count": 53,
   "metadata": {},
   "outputs": [
    {
     "name": "stderr",
     "output_type": "stream",
     "text": [
      "2022-09-10 15:54:01.653011: W tensorflow/stream_executor/platform/default/dso_loader.cc:64] Could not load dynamic library 'libcuda.so.1'; dlerror: libcuda.so.1: cannot open shared object file: No such file or directory\n",
      "2022-09-10 15:54:01.653620: W tensorflow/stream_executor/cuda/cuda_driver.cc:263] failed call to cuInit: UNKNOWN ERROR (303)\n",
      "2022-09-10 15:54:01.653674: I tensorflow/stream_executor/cuda/cuda_diagnostics.cc:156] kernel driver does not appear to be running on this host (Book): /proc/driver/nvidia/version does not exist\n",
      "2022-09-10 15:54:01.654754: I tensorflow/core/platform/cpu_feature_guard.cc:193] This TensorFlow binary is optimized with oneAPI Deep Neural Network Library (oneDNN) to use the following CPU instructions in performance-critical operations:  AVX2 FMA\n",
      "To enable them in other operations, rebuild TensorFlow with the appropriate compiler flags.\n"
     ]
    }
   ],
   "source": [
    "model = Sequential()"
   ]
  },
  {
   "cell_type": "markdown",
   "metadata": {},
   "source": [
    "We can now add a Gated Recurrent Unit (GRU) to the network. This will have 512 outputs for each time-step in the sequence.\n",
    "\n",
    "Note that because this is the first layer in the model, Keras needs to know the shape of its input, which is a batch of sequences of arbitrary length (indicated by `None`), where each observation has a number of input-signals (`num_x_signals`)."
   ]
  },
  {
   "cell_type": "code",
   "execution_count": 54,
   "metadata": {},
   "outputs": [],
   "source": [
    "model.add(GRU(units=512,\n",
    "              return_sequences=True,\n",
    "              input_shape=(None, num_x_signals,)))"
   ]
  },
  {
   "cell_type": "markdown",
   "metadata": {},
   "source": [
    "The GRU outputs a batch of sequences of 512 values. We want to predict 3 output-signals, so we add a fully-connected (or dense) layer which maps 512 values down to only 3 values.\n",
    "\n",
    "The output-signals in the data-set have been limited to be between 0 and 1 using a scaler-object. So we also limit the output of the neural network using the Sigmoid activation function, which squashes the output to be between 0 and 1."
   ]
  },
  {
   "cell_type": "code",
   "execution_count": 55,
   "metadata": {},
   "outputs": [],
   "source": [
    "model.add(Dense(num_y_signals, activation='sigmoid'))"
   ]
  },
  {
   "cell_type": "markdown",
   "metadata": {},
   "source": [
    "A problem with using the Sigmoid activation function, is that we can now only output values in the same range as the training-data.\n",
    "\n",
    "For example, if the training-data only has temperatures between -20 and +30 degrees, then the scaler-object will map -20 to 0 and +30 to 1. So if we limit the output of the neural network to be between 0 and 1 using the Sigmoid function, this can only be mapped back to temperature values between -20 and +30.\n",
    "\n",
    "We can use a linear activation function on the output instead. This allows for the output to take on arbitrary values. It might work with the standard initialization for a simple network architecture, but for more complicated network architectures e.g. with more layers, it might be necessary to initialize the weights with smaller values to avoid `NaN` values during training. You may need to experiment with this to get it working."
   ]
  },
  {
   "cell_type": "code",
   "execution_count": 56,
   "metadata": {},
   "outputs": [],
   "source": [
    "if False:\n",
    "    from tensorflow.python.keras.initializers import RandomUniform\n",
    "\n",
    "    # Maybe use lower init-ranges.\n",
    "    init = RandomUniform(minval=-0.05, maxval=0.05)\n",
    "\n",
    "    model.add(Dense(num_y_signals,\n",
    "                    activation='linear',\n",
    "                    kernel_initializer=init))"
   ]
  },
  {
   "cell_type": "markdown",
   "metadata": {},
   "source": [
    "### Loss Function\n",
    "\n",
    "We will use Mean Squared Error (MSE) as the loss-function that will be minimized. This measures how closely the model's output matches the true output signals.\n",
    "\n",
    "However, at the beginning of a sequence, the model has only seen input-signals for a few time-steps, so its generated output may be very inaccurate. Using the loss-value for the early time-steps may cause the model to distort its later output. We therefore give the model a \"warmup-period\" of 50 time-steps where we don't use its accuracy in the loss-function, in hope of improving the accuracy for later time-steps."
   ]
  },
  {
   "cell_type": "code",
   "execution_count": 57,
   "metadata": {},
   "outputs": [],
   "source": [
    "warmup_steps = 50"
   ]
  },
  {
   "cell_type": "code",
   "execution_count": 58,
   "metadata": {},
   "outputs": [],
   "source": [
    "def loss_mse_warmup(y_true, y_pred):\n",
    "    \"\"\"\n",
    "    Calculate the Mean Squared Error between y_true and y_pred,\n",
    "    but ignore the beginning \"warmup\" part of the sequences.\n",
    "    \n",
    "    y_true is the desired output.\n",
    "    y_pred is the model's output.\n",
    "    \"\"\"\n",
    "\n",
    "    # The shape of both input tensors are:\n",
    "    # [batch_size, sequence_length, num_y_signals].\n",
    "\n",
    "    # Ignore the \"warmup\" parts of the sequences\n",
    "    # by taking slices of the tensors.\n",
    "    y_true_slice = y_true[:, warmup_steps:, :]\n",
    "    y_pred_slice = y_pred[:, warmup_steps:, :]\n",
    "\n",
    "    # These sliced tensors both have this shape:\n",
    "    # [batch_size, sequence_length - warmup_steps, num_y_signals]\n",
    "\n",
    "    # Calculat the Mean Squared Error and use it as loss.\n",
    "    mse = mean(square(y_true_slice - y_pred_slice))\n",
    "    \n",
    "    return mse"
   ]
  },
  {
   "cell_type": "markdown",
   "metadata": {},
   "source": [
    "### Compile Model\n",
    "\n",
    "This is the optimizer and the beginning learning-rate that we will use."
   ]
  },
  {
   "cell_type": "code",
   "execution_count": 59,
   "metadata": {},
   "outputs": [
    {
     "name": "stderr",
     "output_type": "stream",
     "text": [
      "/home/zpw/miniconda3/envs/sklearn-env/lib/python3.10/site-packages/keras/optimizers/optimizer_v2/rmsprop.py:140: UserWarning: The `lr` argument is deprecated, use `learning_rate` instead.\n",
      "  super().__init__(name, **kwargs)\n"
     ]
    }
   ],
   "source": [
    "optimizer = RMSprop(lr=1e-3)"
   ]
  },
  {
   "cell_type": "markdown",
   "metadata": {},
   "source": [
    "We then compile the Keras model so it is ready for training."
   ]
  },
  {
   "cell_type": "code",
   "execution_count": 60,
   "metadata": {},
   "outputs": [],
   "source": [
    "model.compile(loss=loss_mse_warmup, optimizer=optimizer)"
   ]
  },
  {
   "cell_type": "markdown",
   "metadata": {},
   "source": [
    "This is a very small model with only two layers. The output shape of `(None, None, 3)` means that the model will output a batch with an arbitrary number of sequences, each of which has an arbitrary number of observations, and each observation has 3 signals. This corresponds to the 3 target signals we want to predict."
   ]
  },
  {
   "cell_type": "code",
   "execution_count": 61,
   "metadata": {},
   "outputs": [
    {
     "name": "stdout",
     "output_type": "stream",
     "text": [
      "Model: \"sequential\"\n",
      "_________________________________________________________________\n",
      " Layer (type)                Output Shape              Param #   \n",
      "=================================================================\n",
      " gru (GRU)                   (None, None, 512)         820224    \n",
      "                                                                 \n",
      " dense (Dense)               (None, None, 3)           1539      \n",
      "                                                                 \n",
      "=================================================================\n",
      "Total params: 821,763\n",
      "Trainable params: 821,763\n",
      "Non-trainable params: 0\n",
      "_________________________________________________________________\n"
     ]
    }
   ],
   "source": [
    "model.summary()"
   ]
  },
  {
   "cell_type": "markdown",
   "metadata": {},
   "source": [
    "### Callback Functions\n",
    "\n",
    "During training we want to save checkpoints and log the progress to TensorBoard so we create the appropriate callbacks for Keras.\n",
    "\n",
    "This is the callback for writing checkpoints during training."
   ]
  },
  {
   "cell_type": "code",
   "execution_count": 62,
   "metadata": {},
   "outputs": [],
   "source": [
    "path_checkpoint = '23_checkpoint.keras'\n",
    "callback_checkpoint = ModelCheckpoint(filepath=path_checkpoint,\n",
    "                                      monitor='val_loss',\n",
    "                                      verbose=1,\n",
    "                                      save_weights_only=True,\n",
    "                                      save_best_only=True)"
   ]
  },
  {
   "cell_type": "markdown",
   "metadata": {},
   "source": [
    "This is the callback for stopping the optimization when performance worsens on the validation-set."
   ]
  },
  {
   "cell_type": "code",
   "execution_count": 63,
   "metadata": {},
   "outputs": [],
   "source": [
    "callback_early_stopping = EarlyStopping(monitor='val_loss',\n",
    "                                        patience=5, verbose=1)"
   ]
  },
  {
   "cell_type": "markdown",
   "metadata": {},
   "source": [
    "This is the callback for writing the TensorBoard log during training."
   ]
  },
  {
   "cell_type": "code",
   "execution_count": 64,
   "metadata": {},
   "outputs": [],
   "source": [
    "callback_tensorboard = TensorBoard(log_dir='./23_logs/',\n",
    "                                   histogram_freq=0,\n",
    "                                   write_graph=False)"
   ]
  },
  {
   "cell_type": "markdown",
   "metadata": {},
   "source": [
    "This callback reduces the learning-rate for the optimizer if the validation-loss has not improved since the last epoch (as indicated by `patience=0`). The learning-rate will be reduced by multiplying it with the given factor. We set a start learning-rate of 1e-3 above, so multiplying it by 0.1 gives a learning-rate of 1e-4. We don't want the learning-rate to go any lower than this."
   ]
  },
  {
   "cell_type": "code",
   "execution_count": 65,
   "metadata": {},
   "outputs": [],
   "source": [
    "callback_reduce_lr = ReduceLROnPlateau(monitor='val_loss',\n",
    "                                       factor=0.1,\n",
    "                                       min_lr=1e-4,\n",
    "                                       patience=0,\n",
    "                                       verbose=1)"
   ]
  },
  {
   "cell_type": "code",
   "execution_count": 66,
   "metadata": {},
   "outputs": [],
   "source": [
    "callbacks = [callback_early_stopping,\n",
    "             callback_checkpoint,\n",
    "             callback_tensorboard,\n",
    "             callback_reduce_lr]"
   ]
  },
  {
   "cell_type": "markdown",
   "metadata": {},
   "source": [
    "## Train the Recurrent Neural Network\n",
    "\n",
    "We can now train the neural network.\n",
    "\n",
    "Note that a single \"epoch\" does not correspond to a single processing of the training-set, because of how the batch-generator randomly selects sub-sequences from the training-set. Instead we have selected `steps_per_epoch` so that one \"epoch\" is processed in a few minutes.\n",
    "\n",
    "With these settings, each \"epoch\" took about 2.5 minutes to process on a GTX 1070. After 14 \"epochs\" the optimization was stopped because the validation-loss had not decreased for 5 \"epochs\". This optimization took about 35 minutes to finish.\n",
    "\n",
    "Also note that the loss sometimes becomes `NaN` (not-a-number). This is often resolved by restarting and running the Notebook again. But it may also be caused by your neural network architecture, learning-rate, batch-size, sequence-length, etc. in which case you may have to modify those settings."
   ]
  },
  {
   "cell_type": "code",
   "execution_count": null,
   "metadata": {},
   "outputs": [
    {
     "name": "stdout",
     "output_type": "stream",
     "text": [
      "Epoch 1/20\n"
     ]
    },
    {
     "name": "stderr",
     "output_type": "stream",
     "text": [
      "2022-09-10 15:54:13.082161: W tensorflow/core/framework/cpu_allocator_impl.cc:82] Allocation of 704643072 exceeds 10% of free system memory.\n",
      "2022-09-10 15:54:17.813949: W tensorflow/core/framework/cpu_allocator_impl.cc:82] Allocation of 704643072 exceeds 10% of free system memory.\n",
      "2022-09-10 15:54:24.112241: W tensorflow/core/framework/cpu_allocator_impl.cc:82] Allocation of 704643072 exceeds 10% of free system memory.\n",
      "2022-09-10 15:54:25.699058: W tensorflow/core/framework/cpu_allocator_impl.cc:82] Allocation of 704643072 exceeds 10% of free system memory.\n",
      "2022-09-10 15:54:25.699128: W tensorflow/core/framework/cpu_allocator_impl.cc:82] Allocation of 704643072 exceeds 10% of free system memory.\n"
     ]
    },
    {
     "name": "stdout",
     "output_type": "stream",
     "text": [
      "  1/100 [..............................] - ETA: 1:55:55 - loss: 0.0762"
     ]
    }
   ],
   "source": [
    "%%time\n",
    "model.fit(x=generator,\n",
    "          epochs=20,\n",
    "          steps_per_epoch=100,\n",
    "          validation_data=validation_data,\n",
    "          callbacks=callbacks)"
   ]
  },
  {
   "cell_type": "markdown",
   "metadata": {},
   "source": [
    "### Load Checkpoint\n",
    "\n",
    "Because we use early-stopping when training the model, it is possible that the model's performance has worsened on the test-set for several epochs before training was stopped. We therefore reload the last saved checkpoint, which should have the best performance on the test-set."
   ]
  },
  {
   "cell_type": "code",
   "execution_count": null,
   "metadata": {},
   "outputs": [],
   "source": [
    "try:\n",
    "    model.load_weights(path_checkpoint)\n",
    "except Exception as error:\n",
    "    print(\"Error trying to load checkpoint.\")\n",
    "    print(error)"
   ]
  },
  {
   "cell_type": "markdown",
   "metadata": {},
   "source": [
    "## Performance on Test-Set\n",
    "\n",
    "We can now evaluate the model's performance on the test-set. This function expects a batch of data, but we will just use one long time-series for the test-set, so we just expand the array-dimensionality to create a batch with that one sequence."
   ]
  },
  {
   "cell_type": "code",
   "execution_count": null,
   "metadata": {},
   "outputs": [],
   "source": [
    "result = model.evaluate(x=np.expand_dims(x_test_scaled, axis=0),\n",
    "                        y=np.expand_dims(y_test_scaled, axis=0))"
   ]
  },
  {
   "cell_type": "code",
   "execution_count": null,
   "metadata": {},
   "outputs": [],
   "source": [
    "print(\"loss (test-set):\", result)"
   ]
  },
  {
   "cell_type": "code",
   "execution_count": null,
   "metadata": {},
   "outputs": [],
   "source": [
    "# If you have several metrics you can use this instead.\n",
    "if False:\n",
    "    for res, metric in zip(result, model.metrics_names):\n",
    "        print(\"{0}: {1:.3e}\".format(metric, res))"
   ]
  },
  {
   "cell_type": "markdown",
   "metadata": {},
   "source": [
    "## Generate Predictions\n",
    "\n",
    "This helper-function plots the predicted and true output-signals."
   ]
  },
  {
   "cell_type": "code",
   "execution_count": null,
   "metadata": {},
   "outputs": [],
   "source": [
    "def plot_comparison(start_idx, length=100, train=True):\n",
    "    \"\"\"\n",
    "    Plot the predicted and true output-signals.\n",
    "    \n",
    "    :param start_idx: Start-index for the time-series.\n",
    "    :param length: Sequence-length to process and plot.\n",
    "    :param train: Boolean whether to use training- or test-set.\n",
    "    \"\"\"\n",
    "    \n",
    "    if train:\n",
    "        # Use training-data.\n",
    "        x = x_train_scaled\n",
    "        y_true = y_train\n",
    "    else:\n",
    "        # Use test-data.\n",
    "        x = x_test_scaled\n",
    "        y_true = y_test\n",
    "    \n",
    "    # End-index for the sequences.\n",
    "    end_idx = start_idx + length\n",
    "    \n",
    "    # Select the sequences from the given start-index and\n",
    "    # of the given length.\n",
    "    x = x[start_idx:end_idx]\n",
    "    y_true = y_true[start_idx:end_idx]\n",
    "    \n",
    "    # Input-signals for the model.\n",
    "    x = np.expand_dims(x, axis=0)\n",
    "\n",
    "    # Use the model to predict the output-signals.\n",
    "    y_pred = model.predict(x)\n",
    "    \n",
    "    # The output of the model is between 0 and 1.\n",
    "    # Do an inverse map to get it back to the scale\n",
    "    # of the original data-set.\n",
    "    y_pred_rescaled = y_scaler.inverse_transform(y_pred[0])\n",
    "    \n",
    "    # For each output-signal.\n",
    "    for signal in range(len(target_names)):\n",
    "        # Get the output-signal predicted by the model.\n",
    "        signal_pred = y_pred_rescaled[:, signal]\n",
    "        \n",
    "        # Get the true output-signal from the data-set.\n",
    "        signal_true = y_true[:, signal]\n",
    "\n",
    "        # Make the plotting-canvas bigger.\n",
    "        plt.figure(figsize=(15,5))\n",
    "        \n",
    "        # Plot and compare the two signals.\n",
    "        plt.plot(signal_true, label='true')\n",
    "        plt.plot(signal_pred, label='pred')\n",
    "        \n",
    "        # Plot grey box for warmup-period.\n",
    "        p = plt.axvspan(0, warmup_steps, facecolor='black', alpha=0.15)\n",
    "        \n",
    "        # Plot labels etc.\n",
    "        plt.ylabel(target_names[signal])\n",
    "        plt.legend()\n",
    "        plt.show()"
   ]
  },
  {
   "cell_type": "markdown",
   "metadata": {},
   "source": [
    "We can now plot an example of predicted output-signals. It is important to understand what these plots show, as they are actually a bit more complicated than you might think.\n",
    "\n",
    "These plots only show the output-signals and not the 20 input-signals used to predict the output-signals. The time-shift between the input-signals and the output-signals is held fixed in these plots. The model **always** predicts the output-signals e.g. 24 hours into the future (as defined in the `shift_steps` variable above). So the plot's x-axis merely shows how many time-steps of the input-signals have been seen by the predictive model so far.\n",
    "\n",
    "The prediction is not very accurate for the first 30-50 time-steps because the model has seen very little input-data at this point.\n",
    "The model generates a single time-step of output data for each time-step of the input-data, so when the model has only run for a few time-steps, it knows very little of the history of the input-signals and cannot make an accurate prediction. The model needs to \"warm up\" by processing perhaps 30-50 time-steps before its predicted output-signals can be used.\n",
    "\n",
    "That is why we ignore this \"warmup-period\" of 50 time-steps when calculating the mean-squared-error in the loss-function. The \"warmup-period\" is shown as a grey box in these plots.\n",
    "\n",
    "Let us start with an example from the training-data. This is data that the model has seen during training so it should perform reasonably well on this data."
   ]
  },
  {
   "cell_type": "code",
   "execution_count": null,
   "metadata": {
    "scrolled": true
   },
   "outputs": [],
   "source": [
    "plot_comparison(start_idx=100000, length=1000, train=True)"
   ]
  },
  {
   "cell_type": "markdown",
   "metadata": {},
   "source": [
    "The model was able to predict the overall oscillations of the temperature quite well but the peaks were sometimes inaccurate. For the wind-speed, the overall oscillations are predicted reasonably well but the peaks are quite inaccurate. For the atmospheric pressure, the overall curve-shape has been predicted although there seems to be a slight lag and the predicted curve has a lot of noise compared to the smoothness of the original signal."
   ]
  },
  {
   "cell_type": "markdown",
   "metadata": {},
   "source": [
    "### Strange Example\n",
    "\n",
    "The following is another example from the training-set.\n",
    "\n",
    "Note how the temperature does not oscillate very much within each day (this plot shows almost 42 days). The temperature normally oscillates within each day, see e.g. the plot above where the daily temperature-oscillation is very clear. It is unclear whether this period had unusually stable temperature, or if perhaps there's a data-error."
   ]
  },
  {
   "cell_type": "code",
   "execution_count": null,
   "metadata": {},
   "outputs": [],
   "source": [
    "plot_comparison(start_idx=200000, length=1000, train=True)"
   ]
  },
  {
   "cell_type": "markdown",
   "metadata": {},
   "source": [
    "As a check, we can plot this signal directly from the resampled data-set, which looks similar."
   ]
  },
  {
   "cell_type": "code",
   "execution_count": null,
   "metadata": {},
   "outputs": [],
   "source": [
    "df['Odense']['Temp'][200000:200000+1000].plot();"
   ]
  },
  {
   "cell_type": "markdown",
   "metadata": {},
   "source": [
    "We can plot the same period from the original data that has not been resampled. It also looks similar.\n",
    "\n",
    "So either the temperature was unusually stable for a part of this period, or there is a data-error in the raw data that was obtained from the internet weather-database."
   ]
  },
  {
   "cell_type": "code",
   "execution_count": null,
   "metadata": {},
   "outputs": [],
   "source": [
    "df_org = weather.load_original_data()\n",
    "df_org.xs('Odense')['Temp']['2002-12-23':'2003-02-04'].plot();"
   ]
  },
  {
   "cell_type": "markdown",
   "metadata": {},
   "source": [
    "### Example from Test-Set\n",
    "\n",
    "Now consider an example from the test-set. The model has not seen this data during training.\n",
    "\n",
    "The temperature is predicted reasonably well, although the peaks are sometimes inaccurate.\n",
    "\n",
    "The wind-speed has not been predicted so well. The daily oscillation-frequency seems to match, but the center-level and the peaks are quite inaccurate. A guess would be that the wind-speed is difficult to predict from the given input data, so the model has merely learnt to output sinusoidal oscillations in the daily frequency and approximately at the right center-level.\n",
    "\n",
    "The atmospheric pressure is predicted reasonably well, except for a lag and a more noisy signal than the true time-series."
   ]
  },
  {
   "cell_type": "code",
   "execution_count": null,
   "metadata": {},
   "outputs": [],
   "source": [
    "plot_comparison(start_idx=200, length=1000, train=False)"
   ]
  },
  {
   "cell_type": "markdown",
   "metadata": {},
   "source": [
    "## Conclusion\n",
    "\n",
    "This tutorial showed how to use a Recurrent Neural Network to predict several time-series from a number of input-signals. We used weather-data for 5 cities to predict tomorrow's weather for one of the cities.\n",
    "\n",
    "It worked reasonably well for predicting the temperature where the daily oscillations were predicted well, but the peaks were sometimes not predicted so accurately. The atmospheric pressure was also predicted reasonably well, although the predicted signal was more noisy and had a short lag. The wind-speed could not be predicted very well.\n",
    "\n",
    "You can use this method with different time-series but you should be careful to distinguish between *causation and correlation* in the data. The neural network may easily discover patterns in the data that are only temporary correlations which do not generalize well to unseen data.\n",
    "\n",
    "You should select input- and output-data where a *causal* relationship probably exists. You should have a lot of data available for training, and you should try and reduce the risk of over-fitting the model to the training-data, e.g. using early-stopping as we did in this tutorial."
   ]
  },
  {
   "cell_type": "markdown",
   "metadata": {},
   "source": [
    "## Exercises\n",
    "\n",
    "These are a few suggestions for exercises that may help improve your skills with TensorFlow. It is important to get hands-on experience with TensorFlow in order to learn how to use it properly.\n",
    "\n",
    "You may want to backup this Notebook before making any changes.\n",
    "\n",
    "* Remove the wind-speed from the target-data. Does it improve prediction for the temperature and pressure?\n",
    "* Train for more epochs, possibly with a lower learning-rate. Does it improve the performance on the test-set?\n",
    "* Try a different architecture for the neural network, e.g. higher or lower state-size for the GRU layer, more GRU layers, dense layers before and after the GRU layers, etc.\n",
    "* Use hyper-parameter optimization from Tutorial #19.\n",
    "* Try using longer and shorter sequences for the batch-generator.\n",
    "* Try and remove the city \"Odense\" from the input-signals.\n",
    "* Try and add last year's weather-data to the input-signals.\n",
    "* How good is the model at predicting the weather 3 or 7 days into the future?\n",
    "* Can you train a single model with the output-signals for multiple time-shifts, so that a single model predicts the weather in e.g. 1, 3 and 7 days.\n",
    "* Explain to a friend how the program works."
   ]
  },
  {
   "cell_type": "markdown",
   "metadata": {},
   "source": [
    "## License (MIT)\n",
    "\n",
    "Copyright (c) 2018 by [Magnus Erik Hvass Pedersen](http://www.hvass-labs.org/)\n",
    "\n",
    "Permission is hereby granted, free of charge, to any person obtaining a copy of this software and associated documentation files (the \"Software\"), to deal in the Software without restriction, including without limitation the rights to use, copy, modify, merge, publish, distribute, sublicense, and/or sell copies of the Software, and to permit persons to whom the Software is furnished to do so, subject to the following conditions:\n",
    "\n",
    "The above copyright notice and this permission notice shall be included in all copies or substantial portions of the Software.\n",
    "\n",
    "THE SOFTWARE IS PROVIDED \"AS IS\", WITHOUT WARRANTY OF ANY KIND, EXPRESS OR IMPLIED, INCLUDING BUT NOT LIMITED TO THE WARRANTIES OF MERCHANTABILITY, FITNESS FOR A PARTICULAR PURPOSE AND NONINFRINGEMENT. IN NO EVENT SHALL THE AUTHORS OR COPYRIGHT HOLDERS BE LIABLE FOR ANY CLAIM, DAMAGES OR OTHER LIABILITY, WHETHER IN AN ACTION OF CONTRACT, TORT OR OTHERWISE, ARISING FROM, OUT OF OR IN CONNECTION WITH THE SOFTWARE OR THE USE OR OTHER DEALINGS IN THE SOFTWARE."
   ]
  }
 ],
 "metadata": {
  "anaconda-cloud": {},
  "kernelspec": {
   "display_name": "Python 3 (ipykernel)",
   "language": "python",
   "name": "python3"
  },
  "language_info": {
   "codemirror_mode": {
    "name": "ipython",
    "version": 3
   },
   "file_extension": ".py",
   "mimetype": "text/x-python",
   "name": "python",
   "nbconvert_exporter": "python",
   "pygments_lexer": "ipython3",
   "version": "3.10.6"
  }
 },
 "nbformat": 4,
 "nbformat_minor": 4
}
